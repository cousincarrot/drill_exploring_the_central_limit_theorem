{
 "cells": [
  {
   "cell_type": "markdown",
   "metadata": {},
   "source": [
    "\n",
    "#1\n",
    "#Generate a Poisson distribution with lambda = 3\n",
    "poisson = np.random.poisson(3, 100)\n",
    "\n",
    "poisson_mean = np.mean(poisson)\n",
    "\n",
    "#numpy.std(a, axis=None, dtype=None, out=None, ddof=0, keepdims=<class 'numpy._globals._NoValue'>)\n",
    "poisson_std = np.std(poisson, axis=None, dtype=float64, out=None, ddof=1, keepdims=<class 'numpy._globals._NoValue'>)\n",
    "\n",
    "#p = avg_time.plot(figsize=15,5),legend=False,kind=\"bar\",rot=45,color=\"blue\",fontsize=16,yerr=std)\n",
    "#one suggestion for plotting mean and std deviation\n",
    "\n",
    "#Plot a histogram.\n",
    "plt.hist(poisson)\n",
    "\n",
    "#add vertical lines to represent the mean and std deviation. Not sure about first argument in these lines.\n",
    "plt.axvline(poisson_mean, color='#333333', linestyle='solid', linewidth=1, alpha=0.75)\n",
    "plt.axvline(poisson_std, color='#666666', linestyle='dashed', linewidth=1, alpha=0.75)\n",
    "plt.axvline(-poisson_std, color='#666666', linestyle='dashed', linewidth=1, alpha=0.75)\n",
    "\n",
    "#Print the histogram.\n",
    "plt.show()\n",
    "\n",
    "\n",
    "\n",
    "#binomial = np.random.binomial(n, p, 1000)\n",
    "\n",
    "pop1 = np.random.binomial(10, 0.2, 10000)\n",
    "pop2 = np.random.binomial(10, 0.5, 10000)"
   ]
  },
  {
   "cell_type": "markdown",
   "metadata": {},
   "source": [
    "Reproduce the pop1 and pop2 populations and samples, using numpy's binomial function. Specifically, create two binomially distributed populations with n equal to 10 and size equal to 10000. The p-value of pop1 should be 0.2 and the p-value of pop2 should be 0.5. Using a sample size of 100, calculate the means and standard deviations of your samples.\n",
    "\n",
    "For each of the following tasks, first write what you expect will happen, then code the changes and observe what does happen. Discuss the results with your mentor.\n",
    "\n",
    "1. Increase the size of your samples from 100 to 1000, then calculate the means and standard deviations for your new samples and create histograms for each. Repeat this again, decreasing the size of your samples to 20. What values change, and what remain the same?\n",
    "\n",
    "2. Change the probability value (p in the NumPy documentation) for pop1 to 0.3, then take new samples and compute the t-statistic and p-value. Then change the probability value p for group 1 to 0.4, and do it again. What changes, and why?\n",
    "\n",
    "3. Change the distribution of your populations from binomial to a distribution of your choice. Do the sample mean values still accurately represent the population values?"
   ]
  },
  {
   "cell_type": "code",
   "execution_count": 43,
   "metadata": {},
   "outputs": [],
   "source": [
    "import pandas as pd\n",
    "from collections import Counter\n",
    "import numpy as np\n",
    "import statistics\n",
    "import matplotlib.pyplot as plt\n",
    "%matplotlib inline"
   ]
  },
  {
   "cell_type": "code",
   "execution_count": 44,
   "metadata": {},
   "outputs": [
    {
     "data": {
      "image/png": "[encoded data removed]",
      "text/plain": [
       "<matplotlib.figure.Figure at 0x15635f43048>"
      ]
     },
     "metadata": {},
     "output_type": "display_data"
    }
   ],
   "source": [
    "#1\n",
    "# binomial = np.random.binomial(n, p, 1000)\n",
    "\n",
    "pop1 = np.random.binomial(10, 0.2, 10000)\n",
    "pop2 = np.random.binomial(10, 0.5, 10000)\n",
    "\n",
    "# For each, get a sample size of 100, calculate mean and std deviation\n",
    "\n",
    "sample1 = np.random.choice(pop1, 100, replace=True)\n",
    "sample2 = np.random.choice(pop2, 100, replace=True)\n",
    "\n",
    "plt.hist(sample1, alpha=0.75, label='sample 1')\n",
    "plt.hist(sample2, alpha=0.75, label='sample 2')\n",
    "\n",
    "sample1_mean = np.mean(sample1)\n",
    "sample2_mean = np.mean(sample2)\n",
    "\n",
    "sample1_std = np.std(sample1, axis=None, dtype=float, out=None, ddof=1)\n",
    "sample2_std = np.std(sample2, axis=None, dtype=float, out=None, ddof=1)\n",
    "\n",
    "\n",
    "#add vertical lines to represent the mean and std deviation.\n",
    "plt.axvline(sample1_mean, color='#333333', linestyle='solid', linewidth=1, alpha=0.75)\n",
    "plt.axvline(sample1_mean + sample1_std, color='#666666', linestyle='dashed', linewidth=1, alpha=0.75)\n",
    "plt.axvline(sample1_mean - sample1_std, color='#666666', linestyle='dashed', linewidth=1, alpha=0.75)\n",
    "\n",
    "plt.axvline(sample2_mean, color='#333333', linestyle='solid', linewidth=1, alpha=0.75)\n",
    "plt.axvline(sample2_mean + sample2_std, color='#666666', linestyle='dashed', linewidth=1, alpha=0.75)\n",
    "plt.axvline(sample2_mean - sample2_std, color='#666666', linestyle='dashed', linewidth=1, alpha=0.75)\n",
    "\n",
    "\n",
    "plt.legend(loc='upper right')\n",
    "\n",
    "plt.show()"
   ]
  },
  {
   "cell_type": "code",
   "execution_count": 45,
   "metadata": {},
   "outputs": [
    {
     "data": {
      "image/png": "[encoded data removed]",
      "text/plain": [
       "<matplotlib.figure.Figure at 0x15635e8df98>"
      ]
     },
     "metadata": {},
     "output_type": "display_data"
    }
   ],
   "source": [
    "# binomial = np.random.binomial(n, p, 1000)\n",
    "\n",
    "pop1 = np.random.binomial(10, 0.2, 10000)\n",
    "pop2 = np.random.binomial(10, 0.5, 10000)\n",
    "\n",
    "### For each, get a sample size of 20, calculate mean and std deviation\n",
    "sample1 = np.random.choice(sample1, 20, replace=True)\n",
    "sample2 = np.random.choice(sample2, 20, replace=True)\n",
    "\n",
    "plt.hist(sample1, alpha=0.75, label='sample 1')\n",
    "plt.hist(sample2, alpha=0.75, label='sample 2')\n",
    "\n",
    "sample1_mean = np.mean(sample1)\n",
    "sample2_mean = np.mean(sample2)\n",
    "\n",
    "sample1_std = np.std(sample1, axis=None, dtype=float, out=None, ddof=1)\n",
    "sample2_std = np.std(sample2, axis=None, dtype=float, out=None, ddof=1)\n",
    "\n",
    "\n",
    "#add vertical lines to represent the mean and std deviation.\n",
    "plt.axvline(sample1_mean, color='#333333', linestyle='solid', linewidth=1, alpha=0.75)\n",
    "plt.axvline(sample1_mean + sample1_std, color='#666666', linestyle='dashed', linewidth=1, alpha=0.75)\n",
    "plt.axvline(sample1_mean - sample1_std, color='#666666', linestyle='dashed', linewidth=1, alpha=0.75)\n",
    "\n",
    "plt.axvline(sample2_mean, color='#333333', linestyle='solid', linewidth=1, alpha=0.75)\n",
    "plt.axvline(sample2_mean + sample2_std, color='#666666', linestyle='dashed', linewidth=1, alpha=0.75)\n",
    "plt.axvline(sample2_mean - sample2_std, color='#666666', linestyle='dashed', linewidth=1, alpha=0.75)\n",
    "\n",
    "\n",
    "plt.legend(loc='upper right')\n",
    "\n",
    "plt.show()"
   ]
  },
  {
   "cell_type": "markdown",
   "metadata": {},
   "source": [
    "The data seems to have spread out across the x axis, and shortened on the y axis."
   ]
  },
  {
   "cell_type": "markdown",
   "metadata": {},
   "source": [
    "#2 I predict the data will change in a different way! The graphs will get closer."
   ]
  },
  {
   "cell_type": "code",
   "execution_count": 46,
   "metadata": {},
   "outputs": [
    {
     "data": {
      "image/png": "[encoded data removed]",
      "text/plain": [
       "<matplotlib.figure.Figure at 0x15635e2e8d0>"
      ]
     },
     "metadata": {},
     "output_type": "display_data"
    }
   ],
   "source": [
    "# binomial = np.random.binomial(n, p, 1000)\n",
    "#changing the pop3 p value to 0.3\n",
    "pop3 = np.random.binomial(10, 0.3, 10000)\n",
    "pop4 = np.random.binomial(10, 0.5, 10000)\n",
    "\n",
    "# For each, get a sample size of 100, calculate mean and std deviation\n",
    "\n",
    "sample3 = np.random.choice(pop3, 100, replace=True)\n",
    "sample4 = np.random.choice(pop4, 100, replace=True)\n",
    "\n",
    "plt.hist(sample3, alpha=0.75, label='sample 3')\n",
    "plt.hist(sample4, alpha=0.75, label='sample 4')\n",
    "\n",
    "sample3_mean = np.mean(sample3)\n",
    "sample4_mean = np.mean(sample4)\n",
    "\n",
    "sample3_std = np.std(sample3, axis=None, dtype=float, out=None, ddof=1)\n",
    "sample4_std = np.std(sample4, axis=None, dtype=float, out=None, ddof=1)\n",
    "\n",
    "\n",
    "#add vertical lines to represent the mean and std deviation.\n",
    "plt.axvline(sample3_mean, color='#333333', linestyle='solid', linewidth=1, alpha=0.75)\n",
    "plt.axvline(sample3_mean + sample3_std, color='#666666', linestyle='dashed', linewidth=1, alpha=0.75)\n",
    "plt.axvline(sample3_mean - sample3_std, color='#666666', linestyle='dashed', linewidth=1, alpha=0.75)\n",
    "\n",
    "plt.axvline(sample4_mean, color='#333333', linestyle='solid', linewidth=1, alpha=0.75)\n",
    "plt.axvline(sample4_mean + sample4_std, color='#666666', linestyle='dashed', linewidth=1, alpha=0.75)\n",
    "plt.axvline(sample4_mean - sample4_std, color='#666666', linestyle='dashed', linewidth=1, alpha=0.75)\n",
    "\n",
    "\n",
    "plt.legend(loc='upper right')\n",
    "\n",
    "plt.show()"
   ]
  },
  {
   "cell_type": "code",
   "execution_count": 47,
   "metadata": {},
   "outputs": [
    {
     "data": {
      "text/plain": [
       "2.0699999999999994"
      ]
     },
     "execution_count": 47,
     "metadata": {},
     "output_type": "execute_result"
    }
   ],
   "source": [
    "#standard error, the squared standard deviations are divided by the sample size and summed,\n",
    "#then we take the square root of the sum\n",
    "se = ((sample3_std ** 2/100) + (sample4_std ** 2/100)) ** 0.5\n",
    "#difference divided by the standard error is a ratio called the t-value\n",
    "#difference = y = mean2 - mean1\n",
    "y = sample4_mean - sample3_mean\n",
    "y"
   ]
  },
  {
   "cell_type": "code",
   "execution_count": 48,
   "metadata": {},
   "outputs": [
    {
     "data": {
      "text/plain": [
       "10.239032069627376"
      ]
     },
     "execution_count": 48,
     "metadata": {},
     "output_type": "execute_result"
    }
   ],
   "source": [
    "t = y/se\n",
    "t"
   ]
  },
  {
   "cell_type": "code",
   "execution_count": 49,
   "metadata": {},
   "outputs": [
    {
     "name": "stdout",
     "output_type": "stream",
     "text": [
      "Ttest_indResult(statistic=10.239032069627376, pvalue=5.197731833626747e-20)\n"
     ]
    }
   ],
   "source": [
    "#or using this method that's already made:\n",
    "from scipy.stats import ttest_ind\n",
    "print(ttest_ind(sample4, sample3, equal_var=False))"
   ]
  },
  {
   "cell_type": "markdown",
   "metadata": {},
   "source": [
    "Hey, my equation for t was spot on :)\n",
    "and there's the p-value done for us.\n",
    "A p value above 1 indicates there is not a great difference in the populations. The lower the p-value, indicates a meaningful difference between the two means"
   ]
  },
  {
   "cell_type": "code",
   "execution_count": 50,
   "metadata": {},
   "outputs": [
    {
     "data": {
      "image/png": "[encoded data removed]",
      "text/plain": [
       "<matplotlib.figure.Figure at 0x156379d2dd8>"
      ]
     },
     "metadata": {},
     "output_type": "display_data"
    }
   ],
   "source": [
    "# binomial = np.random.binomial(n, p, 1000)\n",
    "#changing the pop3 p value to 0.4\n",
    "pop3 = np.random.binomial(10, 0.4, 10000)\n",
    "pop4 = np.random.binomial(10, 0.5, 10000)\n",
    "\n",
    "# For each, get a sample size of 100, calculate mean and std deviation\n",
    "\n",
    "sample3 = np.random.choice(pop3, 100, replace=True)\n",
    "sample4 = np.random.choice(pop4, 100, replace=True)\n",
    "\n",
    "plt.hist(sample3, alpha=0.75, label='sample 3')\n",
    "plt.hist(sample4, alpha=0.75, label='sample 4')\n",
    "\n",
    "sample3_mean = np.mean(sample3)\n",
    "sample4_mean = np.mean(sample4)\n",
    "\n",
    "sample3_std = np.std(sample3, axis=None, dtype=float, out=None, ddof=1)\n",
    "sample4_std = np.std(sample4, axis=None, dtype=float, out=None, ddof=1)\n",
    "\n",
    "\n",
    "#add vertical lines to represent the mean and std deviation.\n",
    "plt.axvline(sample3_mean, color='#333333', linestyle='solid', linewidth=1, alpha=0.75)\n",
    "plt.axvline(sample3_mean + sample3_std, color='#666666', linestyle='dashed', linewidth=1, alpha=0.75)\n",
    "plt.axvline(sample3_mean - sample3_std, color='#666666', linestyle='dashed', linewidth=1, alpha=0.75)\n",
    "\n",
    "plt.axvline(sample4_mean, color='#333333', linestyle='solid', linewidth=1, alpha=0.75)\n",
    "plt.axvline(sample4_mean + sample4_std, color='#666666', linestyle='dashed', linewidth=1, alpha=0.75)\n",
    "plt.axvline(sample4_mean - sample4_std, color='#666666', linestyle='dashed', linewidth=1, alpha=0.75)\n",
    "\n",
    "\n",
    "plt.legend(loc='upper right')\n",
    "\n",
    "plt.show()"
   ]
  },
  {
   "cell_type": "markdown",
   "metadata": {},
   "source": [
    "The data visually begins to overlap and take a very similar shape, as the p value of the first pop(3), 0.3, changed to 0.4, approaching the p value of the second pop(4) at 0.5. I want to see both at 0.5, but first:"
   ]
  },
  {
   "cell_type": "code",
   "execution_count": 51,
   "metadata": {},
   "outputs": [
    {
     "name": "stdout",
     "output_type": "stream",
     "text": [
      "Ttest_indResult(statistic=5.956757060688282, pvalue=1.1592300423773977e-08)\n"
     ]
    }
   ],
   "source": [
    "print(ttest_ind(sample4, sample3, equal_var=False))"
   ]
  },
  {
   "cell_type": "markdown",
   "metadata": {},
   "source": [
    "the t and p values dropped"
   ]
  },
  {
   "cell_type": "code",
   "execution_count": 52,
   "metadata": {},
   "outputs": [
    {
     "data": {
      "image/png": "[encoded data removed]",
      "text/plain": [
       "<matplotlib.figure.Figure at 0x15637c1dac8>"
      ]
     },
     "metadata": {},
     "output_type": "display_data"
    }
   ],
   "source": [
    "# binomial = np.random.binomial(n, p, 1000)\n",
    "#changing the pop3 p value to 0.5\n",
    "pop3 = np.random.binomial(10, 0.5, 10000)\n",
    "pop4 = np.random.binomial(10, 0.5, 10000)\n",
    "\n",
    "# For each, get a sample size of 100, calculate mean and std deviation\n",
    "\n",
    "sample3 = np.random.choice(pop3, 100, replace=True)\n",
    "sample4 = np.random.choice(pop4, 100, replace=True)\n",
    "\n",
    "plt.hist(sample3, alpha=0.75, label='sample 3')\n",
    "plt.hist(sample4, alpha=0.75, label='sample 4')\n",
    "\n",
    "sample3_mean = np.mean(sample3)\n",
    "sample4_mean = np.mean(sample4)\n",
    "\n",
    "sample3_std = np.std(sample3, axis=None, dtype=float, out=None, ddof=1)\n",
    "sample4_std = np.std(sample4, axis=None, dtype=float, out=None, ddof=1)\n",
    "\n",
    "\n",
    "#add vertical lines to represent the mean and std deviation.\n",
    "plt.axvline(sample3_mean, color='#333333', linestyle='solid', linewidth=1, alpha=0.75)\n",
    "plt.axvline(sample3_mean + sample3_std, color='#666666', linestyle='dashed', linewidth=1, alpha=0.75)\n",
    "plt.axvline(sample3_mean - sample3_std, color='#666666', linestyle='dashed', linewidth=1, alpha=0.75)\n",
    "\n",
    "plt.axvline(sample4_mean, color='#333333', linestyle='solid', linewidth=1, alpha=0.75)\n",
    "plt.axvline(sample4_mean + sample4_std, color='#666666', linestyle='dashed', linewidth=1, alpha=0.75)\n",
    "plt.axvline(sample4_mean - sample4_std, color='#666666', linestyle='dashed', linewidth=1, alpha=0.75)\n",
    "\n",
    "\n",
    "plt.legend(loc='upper right')\n",
    "\n",
    "plt.show()"
   ]
  },
  {
   "cell_type": "markdown",
   "metadata": {},
   "source": [
    "and the graphs are resembling each other even more"
   ]
  },
  {
   "cell_type": "code",
   "execution_count": 54,
   "metadata": {},
   "outputs": [
    {
     "data": {
      "image/png": "[encoded data removed]",
      "text/plain": [
       "<matplotlib.figure.Figure at 0x15637bf5438>"
      ]
     },
     "metadata": {},
     "output_type": "display_data"
    }
   ],
   "source": [
    "#3\n",
    "#numpy.random.geometric(p, size=None)\n",
    "\n",
    "pop3 = np.random.geometric(0.3, 10000)\n",
    "pop4 = np.random.geometric(0.5, 10000)\n",
    "\n",
    "# For each, get a sample size of 100, calculate mean and std deviation\n",
    "\n",
    "sample3 = np.random.choice(pop3, 100, replace=True)\n",
    "sample4 = np.random.choice(pop4, 100, replace=True)\n",
    "\n",
    "plt.hist(sample3, alpha=0.75, label='sample 3')\n",
    "plt.hist(sample4, alpha=0.75, label='sample 4')\n",
    "\n",
    "sample3_mean = np.mean(sample3)\n",
    "sample4_mean = np.mean(sample4)\n",
    "\n",
    "sample3_std = np.std(sample3, axis=None, dtype=float, out=None, ddof=1)\n",
    "sample4_std = np.std(sample4, axis=None, dtype=float, out=None, ddof=1)\n",
    "\n",
    "\n",
    "#add vertical lines to represent the mean and std deviation.\n",
    "plt.axvline(sample3_mean, color='#333333', linestyle='solid', linewidth=1, alpha=0.75)\n",
    "plt.axvline(sample3_mean + sample3_std, color='#666666', linestyle='dashed', linewidth=1, alpha=0.75)\n",
    "plt.axvline(sample3_mean - sample3_std, color='#666666', linestyle='dashed', linewidth=1, alpha=0.75)\n",
    "\n",
    "plt.axvline(sample4_mean, color='#333333', linestyle='solid', linewidth=1, alpha=0.75)\n",
    "plt.axvline(sample4_mean + sample4_std, color='#666666', linestyle='dashed', linewidth=1, alpha=0.75)\n",
    "plt.axvline(sample4_mean - sample4_std, color='#666666', linestyle='dashed', linewidth=1, alpha=0.75)\n",
    "\n",
    "\n",
    "plt.legend(loc='upper right')\n",
    "\n",
    "plt.show()"
   ]
  },
  {
   "cell_type": "markdown",
   "metadata": {},
   "source": [
    "You can still see the shape similarities here between the populations, though the distribution is different"
   ]
  },
  {
   "cell_type": "code",
   "execution_count": null,
   "metadata": {},
   "outputs": [],
   "source": []
  }
 ],
 "metadata": {
  "kernelspec": {
   "display_name": "Python 3",
   "language": "python",
   "name": "python3"
  },
  "language_info": {
   "codemirror_mode": {
    "name": "ipython",
    "version": 3
   },
   "file_extension": ".py",
   "mimetype": "text/x-python",
   "name": "python",
   "nbconvert_exporter": "python",
   "pygments_lexer": "ipython3",
   "version": "3.6.4"
  }
 },
 "nbformat": 4,
 "nbformat_minor": 2
}
